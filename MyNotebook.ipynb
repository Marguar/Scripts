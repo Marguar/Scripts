{
 "cells": [
  {
   "cell_type": "code",
   "execution_count": null,
   "metadata": {},
   "outputs": [],
   "source": [
    "print"
   ]
  }
 ],
 "metadata": {
  "kernelspec": {
   "display_name": "Python 3.10.3 64-bit",
   "language": "python",
   "name": "python3"
  },
  "language_info": {
   "name": "python",
   "version": "3.10.3"
  },
  "orig_nbformat": 4,
  "vscode": {
   "interpreter": {
    "hash": "cf58eb410ceb28a59ef9e9d2a3680290b42a9d22bb84f6b7431c940a57dc0e8c"
   }
  }
 },
 "nbformat": 4,
 "nbformat_minor": 2
}
